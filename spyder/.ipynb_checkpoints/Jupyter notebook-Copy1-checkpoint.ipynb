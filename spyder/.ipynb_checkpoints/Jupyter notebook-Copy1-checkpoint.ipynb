{
 "cells": [
  {
   "cell_type": "code",
   "execution_count": 2,
   "id": "45e800a3",
   "metadata": {},
   "outputs": [
    {
     "name": "stdout",
     "output_type": "stream",
     "text": [
      "Learn to loop number 1 to 10 for phyton\n"
     ]
    }
   ],
   "source": [
    "print(\"Learn to loop number 1 to 10 for phyton\")"
   ]
  },
  {
   "cell_type": "code",
   "execution_count": 4,
   "id": "f53ab64b",
   "metadata": {},
   "outputs": [
    {
     "name": "stdout",
     "output_type": "stream",
     "text": [
      "for i in rang(1,10)\n"
     ]
    }
   ],
   "source": [
    "print(\"for i in rang(1,10):\")"
   ]
  },
  {
   "cell_type": "code",
   "execution_count": 8,
   "id": "9bb3ce99",
   "metadata": {},
   "outputs": [
    {
     "name": "stdout",
     "output_type": "stream",
     "text": [
      "print(i)\n"
     ]
    }
   ],
   "source": [
    "print('print(i)')"
   ]
  }
 ],
 "metadata": {
  "kernelspec": {
   "display_name": "Python 3 (ipykernel)",
   "language": "python",
   "name": "python3"
  },
  "language_info": {
   "codemirror_mode": {
    "name": "ipython",
    "version": 3
   },
   "file_extension": ".py",
   "mimetype": "text/x-python",
   "name": "python",
   "nbconvert_exporter": "python",
   "pygments_lexer": "ipython3",
   "version": "3.9.12"
  }
 },
 "nbformat": 4,
 "nbformat_minor": 5
}
